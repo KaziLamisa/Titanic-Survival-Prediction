{
 "cells": [
  {
   "cell_type": "code",
   "execution_count": 1,
   "metadata": {},
   "outputs": [],
   "source": [
    "import findspark\n",
    "findspark.init()\n"
   ]
  },
  {
   "cell_type": "code",
   "execution_count": 31,
   "metadata": {},
   "outputs": [],
   "source": [
    "import pyspark.sql.functions as f\n",
    "from pyspark.sql.types import StructType\n",
    "from pyspark.sql.types import StructField\n",
    "from pyspark.sql.types import StringType\n",
    "from pyspark.sql.types import IntegerType\n",
    "from pyspark.sql.types import DoubleType\n",
    "from pyspark.ml.feature import StringIndexer, OneHotEncoder\n",
    "from pyspark.ml import Pipeline\n",
    "from pyspark.ml.classification import LogisticRegression\n",
    "from pyspark.ml.feature import VectorAssembler\n",
    "import numpy as np\n",
    "import pandas as pd\n",
    "from scipy import stats\n",
    "from matplotlib import pyplot as plt"
   ]
  },
  {
   "cell_type": "code",
   "execution_count": 3,
   "metadata": {},
   "outputs": [],
   "source": [
    "from pyspark import SparkConf, SparkContext\n",
    "from pyspark.sql import SQLContext\n",
    "\n",
    "\n",
    "sc = SparkContext(conf=SparkConf().setAppName(\"MyApp\").setMaster(\"local\"))\n",
    "sqlContext = SQLContext(sc)\n",
    "\n",
    "train_data=sc.textFile(\"C:/Users/lamisa/Desktop/titanic/train.csv\")"
   ]
  },
  {
   "cell_type": "code",
   "execution_count": 4,
   "metadata": {},
   "outputs": [],
   "source": [
    "def mappingFunc(inp):\n",
    "    data=inp.split(\",\")\n",
    "    \n",
    "    for i in range(0,len(data)):\n",
    "        if not data[i]:\n",
    "            data[i]=None\n",
    "    \n",
    "    return tuple(data)\n",
    "\n",
    "def convToFloat(x):\n",
    "    if x is not None:\n",
    "        return float(x)\n",
    "        \n",
    "header1=train_data.first()\n",
    "#print(header)\n",
    "train_data_final=train_data.filter(lambda x: x!=header1)\n",
    "train_data_final=train_data_final.map(lambda x: mappingFunc(x))\n",
    "train_data_final=train_data_final.map(lambda x: (x[0],int(x[1]),int(x[2]),x[3]+x[4],x[5],convToFloat(x[6]),x[7],x[8],x[9],float(x[10]),x[11],x[12]))\n",
    "\n",
    "#train_data_final.take(5)"
   ]
  },
  {
   "cell_type": "code",
   "execution_count": 5,
   "metadata": {},
   "outputs": [],
   "source": [
    "shemaTitanic=StructType([StructField('PassengerId', StringType(),nullable=True),StructField('Survived', IntegerType(),nullable=True),\n",
    "StructField('pClass', IntegerType(),nullable=True), StructField('Name', StringType(),nullable=True),\n",
    "StructField('Sex',StringType(),nullable=True), StructField('Age',DoubleType(),nullable=True), StructField('SibSp',StringType(),nullable=True),StructField('Parch',StringType(),nullable=True),\n",
    "StructField('Ticket',StringType(),nullable=True),StructField('Fare',DoubleType(),nullable=True),StructField('Cabin',StringType(),nullable=True),StructField('Embarked',StringType(),nullable=True)])\n",
    "\n",
    "\n",
    "people_df = sqlContext.createDataFrame(train_data_final, shemaTitanic)\n",
    "#people_df.registerTempTable(\"Titanic\")"
   ]
  },
  {
   "cell_type": "code",
   "execution_count": 6,
   "metadata": {},
   "outputs": [
    {
     "name": "stdout",
     "output_type": "stream",
     "text": [
      "+-----------+--------+------+--------------------+------+----+-----+-----+----------------+-------+-----+--------+\n",
      "|PassengerId|Survived|pClass|                Name|   Sex| Age|SibSp|Parch|          Ticket|   Fare|Cabin|Embarked|\n",
      "+-----------+--------+------+--------------------+------+----+-----+-----+----------------+-------+-----+--------+\n",
      "|          1|       0|     3|\"Braund Mr. Owen ...|  male|22.0|    1|    0|       A/5 21171|   7.25| null|       S|\n",
      "|          2|       1|     1|\"Cumings Mrs. Joh...|female|38.0|    1|    0|        PC 17599|71.2833|  C85|       C|\n",
      "|          3|       1|     3|\"Heikkinen Miss. ...|female|26.0|    0|    0|STON/O2. 3101282|  7.925| null|       S|\n",
      "|          4|       1|     1|\"Futrelle Mrs. Ja...|female|35.0|    1|    0|          113803|   53.1| C123|       S|\n",
      "|          5|       0|     3|\"Allen Mr. Willia...|  male|35.0|    0|    0|          373450|   8.05| null|       S|\n",
      "|          6|       0|     3|   \"Moran Mr. James\"|  male|null|    0|    0|          330877| 8.4583| null|       Q|\n",
      "|          7|       0|     1|\"McCarthy Mr. Tim...|  male|54.0|    0|    0|           17463|51.8625|  E46|       S|\n",
      "|          8|       0|     3|\"Palsson Master. ...|  male| 2.0|    3|    1|          349909| 21.075| null|       S|\n",
      "|          9|       1|     3|\"Johnson Mrs. Osc...|female|27.0|    0|    2|          347742|11.1333| null|       S|\n",
      "|         10|       1|     2|\"Nasser Mrs. Nich...|female|14.0|    1|    0|          237736|30.0708| null|       C|\n",
      "|         11|       1|     3|\"Sandstrom Miss. ...|female| 4.0|    1|    1|         PP 9549|   16.7|   G6|       S|\n",
      "|         12|       1|     1|\"Bonnell Miss. El...|female|58.0|    0|    0|          113783|  26.55| C103|       S|\n",
      "|         13|       0|     3|\"Saundercock Mr. ...|  male|20.0|    0|    0|       A/5. 2151|   8.05| null|       S|\n",
      "|         14|       0|     3|\"Andersson Mr. An...|  male|39.0|    1|    5|          347082| 31.275| null|       S|\n",
      "|         15|       0|     3|\"Vestrom Miss. Hu...|female|14.0|    0|    0|          350406| 7.8542| null|       S|\n",
      "|         16|       1|     2|\"Hewlett Mrs. (Ma...|female|55.0|    0|    0|          248706|   16.0| null|       S|\n",
      "|         17|       0|     3|\"Rice Master. Eug...|  male| 2.0|    4|    1|          382652| 29.125| null|       Q|\n",
      "|         18|       1|     2|\"Williams Mr. Cha...|  male|null|    0|    0|          244373|   13.0| null|       S|\n",
      "|         19|       0|     3|\"Vander Planke Mr...|female|31.0|    1|    0|          345763|   18.0| null|       S|\n",
      "|         20|       1|     3|\"Masselmani Mrs. ...|female|null|    0|    0|            2649|  7.225| null|       C|\n",
      "+-----------+--------+------+--------------------+------+----+-----+-----+----------------+-------+-----+--------+\n",
      "only showing top 20 rows\n",
      "\n"
     ]
    }
   ],
   "source": [
    "#people_df.printSchema()\n",
    "people_df.show()"
   ]
  },
  {
   "cell_type": "code",
   "execution_count": 7,
   "metadata": {
    "scrolled": true
   },
   "outputs": [
    {
     "name": "stdout",
     "output_type": "stream",
     "text": [
      "(891, 12)\n",
      "+-------+-----------------+------------------+------------------+\n",
      "|summary|             Fare|               Age|            pClass|\n",
      "+-------+-----------------+------------------+------------------+\n",
      "|  count|              891|               714|               891|\n",
      "|   mean| 32.2042079685746| 29.69911764705882| 2.308641975308642|\n",
      "| stddev|49.69342859718089|14.526497332334035|0.8360712409770491|\n",
      "|    min|              0.0|              0.42|                 1|\n",
      "|    max|         512.3292|              80.0|                 3|\n",
      "+-------+-----------------+------------------+------------------+\n",
      "\n"
     ]
    }
   ],
   "source": [
    "#dimensions of data\n",
    "print((people_df.count(),len(people_df.columns)))\n",
    "people_df.select('Fare','Age','pClass').describe().show()"
   ]
  },
  {
   "cell_type": "code",
   "execution_count": 8,
   "metadata": {},
   "outputs": [
    {
     "name": "stdout",
     "output_type": "stream",
     "text": [
      "+-----------+--------+------+----+---+---+-----+-----+------+----+-----+--------+\n",
      "|PassengerId|Survived|pClass|Name|Sex|Age|SibSp|Parch|Ticket|Fare|Cabin|Embarked|\n",
      "+-----------+--------+------+----+---+---+-----+-----+------+----+-----+--------+\n",
      "|          0|       0|     0|   0|  0|177|    0|    0|     0|   0|  687|       2|\n",
      "+-----------+--------+------+----+---+---+-----+-----+------+----+-----+--------+\n",
      "\n",
      "+------+-----+\n",
      "|   Sex|count|\n",
      "+------+-----+\n",
      "|female|  314|\n",
      "|  male|  577|\n",
      "+------+-----+\n",
      "\n",
      "113\n"
     ]
    }
   ],
   "source": [
    "#missing value counts in original dataset\n",
    "data_missing = people_df.agg(*[f.count(f.when(f.isnull(c), c)).alias(c) for c in people_df.columns])\n",
    "data_missing.show()"
   ]
  },
  {
   "cell_type": "code",
   "execution_count": 65,
   "metadata": {},
   "outputs": [
    {
     "name": "stdout",
     "output_type": "stream",
     "text": [
      "+-----------+-----+------+------+----+-------+--------+\n",
      "|PassengerId|label|pClass|   Sex| Age|   Fare|Embarked|\n",
      "+-----------+-----+------+------+----+-------+--------+\n",
      "|          1|    0|     3|  male|22.0|   7.25|       S|\n",
      "|          2|    1|     1|female|38.0|71.2833|       C|\n",
      "+-----------+-----+------+------+----+-------+--------+\n",
      "only showing top 2 rows\n",
      "\n"
     ]
    }
   ],
   "source": [
    "#Rename columns\n",
    "#ignoring parch, sibsp, ticket, and cabin column for the time\n",
    "new_df=people_df.select('PassengerId',f.col('Survived').alias('label'),'pClass','Sex','Age','Fare','Embarked')\n",
    "new_df.show(2)"
   ]
  },
  {
   "cell_type": "code",
   "execution_count": 66,
   "metadata": {},
   "outputs": [
    {
     "name": "stdout",
     "output_type": "stream",
     "text": [
      "Mean age: 29.69911764705882\n",
      "Median age: 28.0\n",
      "Minimum age: 0.42\n",
      "Maximum age: 80.0\n"
     ]
    },
    {
     "data": {
      "image/png": "[encoded data removed]",
      "text/plain": [
       "<Figure size 432x288 with 1 Axes>"
      ]
     },
     "metadata": {
      "needs_background": "light"
     },
     "output_type": "display_data"
    }
   ],
   "source": [
    "#fill the NULL values by exploring the columns\n",
    "#examine 'age' column\n",
    "\n",
    "age_array=np.array(new_df.select('Age').dropna().collect())\n",
    "mean_age=np.mean(age_array)\n",
    "median_age=np.median(age_array)\n",
    "max_age=np.max(age_array)\n",
    "min_age=np.min(age_array)\n",
    "print('Mean age: ' + str(mean_age))\n",
    "print('Median age: ' + str(median_age))\n",
    "print('Minimum age: ' + str(min_age))\n",
    "print('Maximum age: ' + str(max_age))\n",
    "\n",
    "plt.hist(age_array, bins = [min_age,20,40,60,max_age],ec='black') \n",
    "plt.title(\"Age_histogram\") \n",
    "plt.show()"
   ]
  },
  {
   "cell_type": "code",
   "execution_count": 70,
   "metadata": {},
   "outputs": [
    {
     "name": "stdout",
     "output_type": "stream",
     "text": [
      "+-----------+-----+------+------+------+-------+--------+\n",
      "|PassengerId|label|pClass|   Sex|   Age|   Fare|Embarked|\n",
      "+-----------+-----+------+------+------+-------+--------+\n",
      "|          1|    0|     3|  male|  22.0|   7.25|       S|\n",
      "|          2|    1|     1|female|  38.0|71.2833|       C|\n",
      "|          3|    1|     3|female|  26.0|  7.925|       S|\n",
      "|          4|    1|     1|female|  35.0|   53.1|       S|\n",
      "|          5|    0|     3|  male|  35.0|   8.05|       S|\n",
      "|          6|    0|     3|  male|29.699| 8.4583|       Q|\n",
      "|          7|    0|     1|  male|  54.0|51.8625|       S|\n",
      "|          8|    0|     3|  male|   2.0| 21.075|       S|\n",
      "|          9|    1|     3|female|  27.0|11.1333|       S|\n",
      "|         10|    1|     2|female|  14.0|30.0708|       C|\n",
      "|         11|    1|     3|female|   4.0|   16.7|       S|\n",
      "|         12|    1|     1|female|  58.0|  26.55|       S|\n",
      "|         13|    0|     3|  male|  20.0|   8.05|       S|\n",
      "|         14|    0|     3|  male|  39.0| 31.275|       S|\n",
      "|         15|    0|     3|female|  14.0| 7.8542|       S|\n",
      "|         16|    1|     2|female|  55.0|   16.0|       S|\n",
      "|         17|    0|     3|  male|   2.0| 29.125|       Q|\n",
      "|         18|    1|     2|  male|29.699|   13.0|       S|\n",
      "|         19|    0|     3|female|  31.0|   18.0|       S|\n",
      "|         20|    1|     3|female|29.699|  7.225|       C|\n",
      "+-----------+-----+------+------+------+-------+--------+\n",
      "only showing top 20 rows\n",
      "\n"
     ]
    }
   ],
   "source": [
    "#fill null values with mean age value\n",
    "new_df=new_df.fillna({'Age':round(mean_age,3)})\n",
    "new_df.show()\n"
   ]
  },
  {
   "cell_type": "code",
   "execution_count": 71,
   "metadata": {},
   "outputs": [
    {
     "name": "stderr",
     "output_type": "stream",
     "text": [
      "<ipython-input-71-1a942b2808a0>:10: MatplotlibDeprecationWarning: Non-1D inputs to pie() are currently squeeze()d, but this behavior is deprecated since 3.1 and will be removed in 3.3; pass a 1D array instead.\n",
      "  ax.pie(emb_count, labels = emb_array,autopct='%1.2f%%')\n"
     ]
    },
    {
     "data": {
      "image/png": "[encoded data removed]",
      "text/plain": [
       "<Figure size 432x288 with 1 Axes>"
      ]
     },
     "metadata": {},
     "output_type": "display_data"
    }
   ],
   "source": [
    "#examine Embarked column\n",
    "\n",
    "emb_df=new_df.groupBy('Embarked').count().dropna()\n",
    "emb_array=np.array(emb_df.select('Embarked').collect())\n",
    "emb_count=np.array(emb_df.select('Count').collect())\n",
    "\n",
    "fig = plt.figure()\n",
    "ax = fig.add_axes([0,0,1,1])\n",
    "ax.axis('equal')\n",
    "ax.pie(emb_count, labels = emb_array,autopct='%1.2f%%')\n",
    "plt.show()"
   ]
  },
  {
   "cell_type": "code",
   "execution_count": 73,
   "metadata": {},
   "outputs": [
    {
     "name": "stdout",
     "output_type": "stream",
     "text": [
      "+-----------+-----+------+------+------+-------+--------+\n",
      "|PassengerId|label|pClass|   Sex|   Age|   Fare|Embarked|\n",
      "+-----------+-----+------+------+------+-------+--------+\n",
      "|          1|    0|     3|  male|  22.0|   7.25|       S|\n",
      "|          2|    1|     1|female|  38.0|71.2833|       C|\n",
      "|          3|    1|     3|female|  26.0|  7.925|       S|\n",
      "|          4|    1|     1|female|  35.0|   53.1|       S|\n",
      "|          5|    0|     3|  male|  35.0|   8.05|       S|\n",
      "|          6|    0|     3|  male|29.699| 8.4583|       Q|\n",
      "|          7|    0|     1|  male|  54.0|51.8625|       S|\n",
      "|          8|    0|     3|  male|   2.0| 21.075|       S|\n",
      "|          9|    1|     3|female|  27.0|11.1333|       S|\n",
      "|         10|    1|     2|female|  14.0|30.0708|       C|\n",
      "|         11|    1|     3|female|   4.0|   16.7|       S|\n",
      "|         12|    1|     1|female|  58.0|  26.55|       S|\n",
      "|         13|    0|     3|  male|  20.0|   8.05|       S|\n",
      "|         14|    0|     3|  male|  39.0| 31.275|       S|\n",
      "|         15|    0|     3|female|  14.0| 7.8542|       S|\n",
      "|         16|    1|     2|female|  55.0|   16.0|       S|\n",
      "|         17|    0|     3|  male|   2.0| 29.125|       Q|\n",
      "|         18|    1|     2|  male|29.699|   13.0|       S|\n",
      "|         19|    0|     3|female|  31.0|   18.0|       S|\n",
      "|         20|    1|     3|female|29.699|  7.225|       C|\n",
      "+-----------+-----+------+------+------+-------+--------+\n",
      "only showing top 20 rows\n",
      "\n"
     ]
    }
   ],
   "source": [
    "#fill null values in 'Embarked' Column with 'S'\n",
    "new_df=new_df.fillna({'Embarked':'S'})\n",
    "new_df.show()"
   ]
  },
  {
   "cell_type": "code",
   "execution_count": 74,
   "metadata": {},
   "outputs": [
    {
     "name": "stdout",
     "output_type": "stream",
     "text": [
      "+-----------+-----+------+---+---+----+--------+\n",
      "|PassengerId|label|pClass|Sex|Age|Fare|Embarked|\n",
      "+-----------+-----+------+---+---+----+--------+\n",
      "|          0|    0|     0|  0|  0|   0|       0|\n",
      "+-----------+-----+------+---+---+----+--------+\n",
      "\n"
     ]
    }
   ],
   "source": [
    "# examine new_df for missing value\n",
    "\n",
    "new_df.agg(*[f.count(f.when(f.isnull(c), c)).alias(c) for c in new_df.columns]).show()\n"
   ]
  },
  {
   "cell_type": "code",
   "execution_count": 75,
   "metadata": {},
   "outputs": [],
   "source": [
    "#building pipeline\n",
    "cate_features=['Sex','Embarked']\n",
    "conti_features=['Age','Fare','pClass']\n",
    "stages=[]\n",
    "\n",
    "for featureCol in cate_features:\n",
    "    stringIndexer=StringIndexer(inputCol=featureCol, outputCol=featureCol+\"Indexed\")\n",
    "    encoder = OneHotEncoder(inputCols=[stringIndexer.getOutputCol()],outputCols=[featureCol + \"classVec\"])\n",
    "    stages += [stringIndexer, encoder]\n",
    "\n",
    "assemblerInput = [x+'classVec' for x in cate_features]+conti_features\n",
    "    \n",
    "assembler = VectorAssembler(inputCols=assemblerInput, outputCol=\"features\")\n",
    "stages += [assembler]\n",
    "\n",
    "\n",
    "#create data processing pipeLine\n",
    "pipeline = Pipeline(stages=stages)\n",
    "pipelineModel = pipeline.fit(new_df)\n",
    "model = pipelineModel.transform(new_df)"
   ]
  },
  {
   "cell_type": "code",
   "execution_count": 80,
   "metadata": {},
   "outputs": [
    {
     "name": "stdout",
     "output_type": "stream",
     "text": [
      "root\n",
      " |-- PassengerId: string (nullable = true)\n",
      " |-- label: integer (nullable = true)\n",
      " |-- pClass: integer (nullable = true)\n",
      " |-- Sex: string (nullable = true)\n",
      " |-- Age: double (nullable = false)\n",
      " |-- Fare: double (nullable = true)\n",
      " |-- Embarked: string (nullable = false)\n",
      " |-- SexIndexed: double (nullable = false)\n",
      " |-- SexclassVec: vector (nullable = true)\n",
      " |-- EmbarkedIndexed: double (nullable = false)\n",
      " |-- EmbarkedclassVec: vector (nullable = true)\n",
      " |-- features: vector (nullable = true)\n",
      "\n",
      "+-----+--------------------+\n",
      "|label|            features|\n",
      "+-----+--------------------+\n",
      "|    0|[1.0,1.0,0.0,22.0...|\n",
      "|    1|[0.0,0.0,1.0,38.0...|\n",
      "|    1|[0.0,1.0,0.0,26.0...|\n",
      "|    1|[0.0,1.0,0.0,35.0...|\n",
      "|    0|[1.0,1.0,0.0,35.0...|\n",
      "+-----+--------------------+\n",
      "only showing top 5 rows\n",
      "\n"
     ]
    }
   ],
   "source": [
    "#observe model\n",
    "#model.take(1)\n",
    "model.printSchema()\n",
    "df_train=model.select('label','features')\n",
    "df_train.show(5)\n"
   ]
  },
  {
   "cell_type": "code",
   "execution_count": 81,
   "metadata": {},
   "outputs": [],
   "source": [
    "#build logistic regressor\n",
    "lr = LogisticRegression(labelCol=\"label\",\n",
    "                        featuresCol=\"features\",\n",
    "                        maxIter=10,\n",
    "                        regParam=0.3)\n",
    "\n",
    "# Fit the training data to the model\n",
    "linearModel = lr.fit(df_train)"
   ]
  },
  {
   "cell_type": "code",
   "execution_count": 82,
   "metadata": {},
   "outputs": [
    {
     "name": "stdout",
     "output_type": "stream",
     "text": [
      "Coefficients: [-0.9711045318566424,-0.1663874944384815,0.1873531552880749,-0.007134013239433237,0.0026319870422545637,-0.3107762191536061]\n",
      "Intercept: 1.0505637242450991\n"
     ]
    }
   ],
   "source": [
    "#intercept and cofficients\n",
    "print(\"Coefficients: \" + str(linearModel.coefficients))\n",
    "print(\"Intercept: \" + str(linearModel.intercept))"
   ]
  },
  {
   "cell_type": "code",
   "execution_count": 107,
   "metadata": {},
   "outputs": [
    {
     "name": "stdout",
     "output_type": "stream",
     "text": [
      "+-----+----------+--------------------+\n",
      "|label|prediction|         probability|\n",
      "+-----+----------+--------------------+\n",
      "|    0|       0.0|[0.76080961870114...|\n",
      "|    1|       1.0|[0.30076347994908...|\n",
      "|    1|       0.0|[0.55299477627009...|\n",
      "|    1|       1.0|[0.38616342697074...|\n",
      "|    0|       0.0|[0.77691185299242...|\n",
      "|    0|       0.0|[0.73932831505939...|\n",
      "|    0|       0.0|[0.65620773370997...|\n",
      "|    0|       0.0|[0.72672228600787...|\n",
      "|    1|       0.0|[0.55267088573108...|\n",
      "|    1|       1.0|[0.35534315127814...|\n",
      "|    1|       0.0|[0.50818284358155...|\n",
      "|    1|       1.0|[0.44287390679452...|\n",
      "|    0|       0.0|[0.75781726348469...|\n",
      "|    0|       0.0|[0.77121210380885...|\n",
      "|    0|       0.0|[0.53179614979200...|\n",
      "|    1|       0.0|[0.52189477528417...|\n",
      "|    0|       0.0|[0.68793457314301...|\n",
      "|    1|       0.0|[0.70809254224675...|\n",
      "|    0|       0.0|[0.55525615764746...|\n",
      "|    1|       1.0|[0.47184699120507...|\n",
      "+-----+----------+--------------------+\n",
      "only showing top 20 rows\n",
      "\n"
     ]
    }
   ],
   "source": [
    "trained_data=linearModel.transform(df_train)\n",
    "trained_data.select('label','prediction','probability').show()"
   ]
  },
  {
   "cell_type": "code",
   "execution_count": null,
   "metadata": {},
   "outputs": [],
   "source": [
    "#to-do \n",
    "#calculate accuracy of the model\n"
   ]
  },
  {
   "cell_type": "code",
   "execution_count": 108,
   "metadata": {},
   "outputs": [
    {
     "name": "stdout",
     "output_type": "stream",
     "text": [
      "+-----------+------+--------------------+------+----+-----+-----+----------------+-------+-----+--------+\n",
      "|PassengerId|pClass|                Name|   Sex| Age|SibSp|Parch|          Ticket|   Fare|Cabin|Embarked|\n",
      "+-----------+------+--------------------+------+----+-----+-----+----------------+-------+-----+--------+\n",
      "|        892|     3|    Kelly, Mr. James|  male|34.5|    0|    0|          330911| 7.8292| null|       Q|\n",
      "|        893|     3|Wilkes, Mrs. Jame...|female|47.0|    1|    0|          363272|    7.0| null|       S|\n",
      "|        894|     2|Myles, Mr. Thomas...|  male|62.0|    0|    0|          240276| 9.6875| null|       Q|\n",
      "|        895|     3|    Wirz, Mr. Albert|  male|27.0|    0|    0|          315154| 8.6625| null|       S|\n",
      "|        896|     3|Hirvonen, Mrs. Al...|female|22.0|    1|    1|         3101298|12.2875| null|       S|\n",
      "|        897|     3|Svensson, Mr. Joh...|  male|14.0|    0|    0|            7538|  9.225| null|       S|\n",
      "|        898|     3|Connolly, Miss. Kate|female|30.0|    0|    0|          330972| 7.6292| null|       Q|\n",
      "|        899|     2|Caldwell, Mr. Alb...|  male|26.0|    1|    1|          248738|   29.0| null|       S|\n",
      "|        900|     3|Abrahim, Mrs. Jos...|female|18.0|    0|    0|            2657| 7.2292| null|       C|\n",
      "|        901|     3|Davies, Mr. John ...|  male|21.0|    2|    0|       A/4 48871|  24.15| null|       S|\n",
      "|        902|     3|    Ilieff, Mr. Ylio|  male|null|    0|    0|          349220| 7.8958| null|       S|\n",
      "|        903|     1|Jones, Mr. Charle...|  male|46.0|    0|    0|             694|   26.0| null|       S|\n",
      "|        904|     1|Snyder, Mrs. John...|female|23.0|    1|    0|           21228|82.2667|  B45|       S|\n",
      "|        905|     2|Howard, Mr. Benjamin|  male|63.0|    1|    0|           24065|   26.0| null|       S|\n",
      "|        906|     1|Chaffee, Mrs. Her...|female|47.0|    1|    0|     W.E.P. 5734| 61.175|  E31|       S|\n",
      "|        907|     2|del Carlo, Mrs. S...|female|24.0|    1|    0|   SC/PARIS 2167|27.7208| null|       C|\n",
      "|        908|     2|   Keane, Mr. Daniel|  male|35.0|    0|    0|          233734|  12.35| null|       Q|\n",
      "|        909|     3|   Assaf, Mr. Gerios|  male|21.0|    0|    0|            2692|  7.225| null|       C|\n",
      "|        910|     3|Ilmakangas, Miss....|female|27.0|    1|    0|STON/O2. 3101270|  7.925| null|       S|\n",
      "|        911|     3|Assaf Khalil, Mrs...|female|45.0|    0|    0|            2696|  7.225| null|       C|\n",
      "+-----------+------+--------------------+------+----+-----+-----+----------------+-------+-----+--------+\n",
      "only showing top 20 rows\n",
      "\n"
     ]
    }
   ],
   "source": [
    "#process test data\n",
    "\n",
    "df = pd.read_csv(r'C:\\Users\\lamisa\\Desktop\\titanic\\test.csv')\n",
    "df = df.replace({np.nan: None})\n",
    "#df.head(20)\n",
    "\n",
    "shemaTesting=StructType([StructField('PassengerId', StringType(),nullable=True),\n",
    "StructField('pClass', IntegerType(),nullable=True), StructField('Name', StringType(),nullable=True),\n",
    "StructField('Sex',StringType(),nullable=True), StructField('Age',DoubleType(),nullable=True), StructField('SibSp',StringType(),nullable=True),StructField('Parch',StringType(),nullable=True),\n",
    "StructField('Ticket',StringType(),nullable=True),StructField('Fare',DoubleType(),nullable=True),StructField('Cabin',StringType(),nullable=True),StructField('Embarked',StringType(),nullable=True)])\n",
    "\n",
    "test_data = sqlContext.createDataFrame(df, shemaTesting)\n",
    "test_data.show()"
   ]
  },
  {
   "cell_type": "code",
   "execution_count": 109,
   "metadata": {},
   "outputs": [
    {
     "name": "stdout",
     "output_type": "stream",
     "text": [
      "dimension of the test data: \n",
      "(418, 11)\n",
      "missing data: \n",
      "+-----------+------+----+---+---+-----+-----+------+----+-----+--------+\n",
      "|PassengerId|pClass|Name|Sex|Age|SibSp|Parch|Ticket|Fare|Cabin|Embarked|\n",
      "+-----------+------+----+---+---+-----+-----+------+----+-----+--------+\n",
      "|          0|     0|   0|  0| 86|    0|    0|     0|   1|  327|       0|\n",
      "+-----------+------+----+---+---+-----+-----+------+----+-----+--------+\n",
      "\n"
     ]
    }
   ],
   "source": [
    "#dimension\n",
    "print(\"dimension of the test data: \")\n",
    "print((df_test.count(),len(df_test.columns)))\n",
    "#missing data in test dataset\n",
    "print(\"missing data: \")\n",
    "test_data.agg(*[f.count(f.when(f.isnull(c), c)).alias(c) for c in test_data.columns]).show()"
   ]
  },
  {
   "cell_type": "code",
   "execution_count": 110,
   "metadata": {},
   "outputs": [
    {
     "name": "stdout",
     "output_type": "stream",
     "text": [
      "+-----------+------+----+-------+--------+------+\n",
      "|PassengerId|pClass| Age|   Fare|Embarked|   Sex|\n",
      "+-----------+------+----+-------+--------+------+\n",
      "|        892|     3|34.5| 7.8292|       Q|  male|\n",
      "|        893|     3|47.0|    7.0|       S|female|\n",
      "|        894|     2|62.0| 9.6875|       Q|  male|\n",
      "|        895|     3|27.0| 8.6625|       S|  male|\n",
      "|        896|     3|22.0|12.2875|       S|female|\n",
      "|        897|     3|14.0|  9.225|       S|  male|\n",
      "|        898|     3|30.0| 7.6292|       Q|female|\n",
      "|        899|     2|26.0|   29.0|       S|  male|\n",
      "|        900|     3|18.0| 7.2292|       C|female|\n",
      "|        901|     3|21.0|  24.15|       S|  male|\n",
      "|        903|     1|46.0|   26.0|       S|  male|\n",
      "|        904|     1|23.0|82.2667|       S|female|\n",
      "|        905|     2|63.0|   26.0|       S|  male|\n",
      "|        906|     1|47.0| 61.175|       S|female|\n",
      "|        907|     2|24.0|27.7208|       C|female|\n",
      "|        908|     2|35.0|  12.35|       Q|  male|\n",
      "|        909|     3|21.0|  7.225|       C|  male|\n",
      "|        910|     3|27.0|  7.925|       S|female|\n",
      "|        911|     3|45.0|  7.225|       C|female|\n",
      "|        912|     1|55.0|   59.4|       C|  male|\n",
      "+-----------+------+----+-------+--------+------+\n",
      "only showing top 20 rows\n",
      "\n"
     ]
    }
   ],
   "source": [
    "test_data=test_data.select('PassengerId','pClass','Age','Fare','Embarked','Sex').dropna()\n",
    "test_data.show()"
   ]
  },
  {
   "cell_type": "code",
   "execution_count": 117,
   "metadata": {},
   "outputs": [],
   "source": [
    "test_df=pipelineModel.transform(test_data)"
   ]
  },
  {
   "cell_type": "code",
   "execution_count": 118,
   "metadata": {},
   "outputs": [
    {
     "name": "stdout",
     "output_type": "stream",
     "text": [
      "root\n",
      " |-- PassengerId: string (nullable = true)\n",
      " |-- pClass: integer (nullable = true)\n",
      " |-- Age: double (nullable = true)\n",
      " |-- Fare: double (nullable = true)\n",
      " |-- Embarked: string (nullable = true)\n",
      " |-- Sex: string (nullable = true)\n",
      " |-- SexIndexed: double (nullable = false)\n",
      " |-- SexclassVec: vector (nullable = true)\n",
      " |-- EmbarkedIndexed: double (nullable = false)\n",
      " |-- EmbarkedclassVec: vector (nullable = true)\n",
      " |-- features: vector (nullable = true)\n",
      "\n"
     ]
    },
    {
     "data": {
      "text/plain": [
       "[Row(PassengerId='892', pClass=3, Age=34.5, Fare=7.8292, Embarked='Q', Sex='male', SexIndexed=0.0, SexclassVec=SparseVector(1, {0: 1.0}), EmbarkedIndexed=2.0, EmbarkedclassVec=SparseVector(2, {}), features=DenseVector([1.0, 0.0, 0.0, 34.5, 7.8292, 3.0]))]"
      ]
     },
     "execution_count": 118,
     "metadata": {},
     "output_type": "execute_result"
    }
   ],
   "source": [
    "test_df.printSchema()\n",
    "test_df.take(1)"
   ]
  },
  {
   "cell_type": "code",
   "execution_count": 119,
   "metadata": {},
   "outputs": [
    {
     "name": "stdout",
     "output_type": "stream",
     "text": [
      "+-----------+----------+--------------------+\n",
      "|PassengerId|prediction|         probability|\n",
      "+-----------+----------+--------------------+\n",
      "|        892|       0.0|[0.74618853506646...|\n",
      "|        893|       0.0|[0.59025681600383...|\n",
      "|        894|       0.0|[0.72290245268833...|\n",
      "|        895|       0.0|[0.76657571838225...|\n",
      "|        896|       0.0|[0.54308294305559...|\n",
      "|        897|       0.0|[0.74929448323128...|\n",
      "|        898|       0.0|[0.51891730950628...|\n",
      "|        899|       0.0|[0.69373460850929...|\n",
      "|        900|       1.0|[0.45110596407404...|\n",
      "|        901|       0.0|[0.75129085588677...|\n",
      "|        903|       0.0|[0.65868451628133...|\n",
      "|        904|       1.0|[0.34845381351059...|\n",
      "|        905|       0.0|[0.74828603312618...|\n",
      "|        906|       1.0|[0.40152542278202...|\n",
      "|        907|       1.0|[0.37329454002504...|\n",
      "|        908|       0.0|[0.68119710460998...|\n",
      "|        909|       0.0|[0.68918556149661...|\n",
      "|        910|       0.0|[0.55475757015902...|\n",
      "|        911|       1.0|[0.49910656778133...|\n",
      "|        912|       0.0|[0.56954489253909...|\n",
      "+-----------+----------+--------------------+\n",
      "only showing top 20 rows\n",
      "\n"
     ]
    }
   ],
   "source": [
    "predictions=linearModel.transform(test_df)\n",
    "predictions.select('PassengerId','prediction','probability').show()"
   ]
  },
  {
   "cell_type": "code",
   "execution_count": null,
   "metadata": {},
   "outputs": [],
   "source": []
  }
 ],
 "metadata": {
  "kernelspec": {
   "display_name": "Python 3",
   "language": "python",
   "name": "python3"
  },
  "language_info": {
   "codemirror_mode": {
    "name": "ipython",
    "version": 3
   },
   "file_extension": ".py",
   "mimetype": "text/x-python",
   "name": "python",
   "nbconvert_exporter": "python",
   "pygments_lexer": "ipython3",
   "version": "3.8.3"
  }
 },
 "nbformat": 4,
 "nbformat_minor": 4
}
